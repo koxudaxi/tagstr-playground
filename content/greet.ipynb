{
 "cells": [
  {
   "cell_type": "code",
   "id": "initial_id",
   "metadata": {
    "collapsed": true,
    "jupyter": {
     "is_executing": true
    }
   },
   "source": [
    "def greet(*args):\n",
    "    salutation = args[0].strip()\n",
    "    getvalue = args[1][0]\n",
    "    recipient = getvalue().upper()\n",
    "    return f\"{salutation} {recipient}!\""
   ],
   "outputs": [],
   "execution_count": null
  },
  {
   "metadata": {},
   "cell_type": "markdown",
   "source": "With this, greet can be used in a way that is familiar to f-strings:",
   "id": "54fe33c2f0d1afdd"
  },
  {
   "metadata": {},
   "cell_type": "code",
   "outputs": [],
   "execution_count": null,
   "source": [
    "name = \"World\"\n",
    "greeting = greet\"Hello {name}\"\n",
    "assert greeting == \"Hello WORLD!\""
   ],
   "id": "afc2cef511bbb821"
  },
  {
   "metadata": {},
   "cell_type": "markdown",
   "source": "Below you can find richer examples. As a note, an implementation based on CPython 3.12 exists, as discussed in this document.",
   "id": "39543ad009b5328f"
  },
  {
   "metadata": {},
   "cell_type": "code",
   "outputs": [],
   "execution_count": null,
   "source": "greeting",
   "id": "1e1a655de7bc2f3"
  }
 ],
 "metadata": {
  "kernelspec": {
   "display_name": "Python 3",
   "language": "python",
   "name": "python3"
  },
  "language_info": {
   "codemirror_mode": {
    "name": "ipython",
    "version": 2
   },
   "file_extension": ".py",
   "mimetype": "text/x-python",
   "name": "python",
   "nbconvert_exporter": "python",
   "pygments_lexer": "ipython2",
   "version": "2.7.6"
  }
 },
 "nbformat": 4,
 "nbformat_minor": 5
}
